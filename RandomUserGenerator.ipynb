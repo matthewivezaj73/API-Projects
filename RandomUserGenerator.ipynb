{
 "cells": [
  {
   "cell_type": "code",
   "execution_count": null,
   "id": "311aa1de-4c5d-4098-bc86-dbea95aa77e7",
   "metadata": {},
   "outputs": [],
   "source": [
    "from randomuser import RandomUser\n",
    "import pandas as pd\n"
   ]
  },
  {
   "cell_type": "code",
   "execution_count": null,
   "id": "663cb223-9790-4627-ae5c-3d714cbfd70e",
   "metadata": {},
   "outputs": [],
   "source": [
    "from randomuser import RandomUser\n",
    "import pandas as pd\n",
    "#Creating a random user.\n",
    "r = RandomUser()\n",
    "\n",
    "#Creating a list of users.\n",
    "my_users = ['Will', 'Sam', 'Carly', 'Joe', 'James', 'Neta', 'Ashley', 'Antonio', 'Beth', 'Sue']\n",
    "#Making a for loop to create 10 users.\n",
    "for muser in my_users:\n",
    "    r = RandomUser()\n",
    "    print(f\"{r.get_full_name()}, {r.get_email()}\")\n",
    "    x = x+1"
   ]
  }
 ],
 "metadata": {
  "kernelspec": {
   "display_name": "Python",
   "language": "python",
   "name": "conda-env-python-py"
  },
  "language_info": {
   "codemirror_mode": {
    "name": "ipython",
    "version": 3
   },
   "file_extension": ".py",
   "mimetype": "text/x-python",
   "name": "python",
   "nbconvert_exporter": "python",
   "pygments_lexer": "ipython3",
   "version": "3.7.12"
  }
 },
 "nbformat": 4,
 "nbformat_minor": 5
}
