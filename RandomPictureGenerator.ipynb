{
 "cells": [
  {
   "cell_type": "code",
   "execution_count": null,
   "id": "af40d3f7-9b93-4ebd-b6b1-1180a1ac48db",
   "metadata": {},
   "outputs": [],
   "source": [
    "## Write your code here\n",
    "from randomuser import RandomUser\n",
    "import pandas as pd\n",
    "#Creating a random user.\n",
    "r = RandomUser()\n",
    "\n",
    "#Creating a list of users.\n",
    "my_users = ['Will', 'Sam', 'Carly', 'Joe', 'James']\n",
    "#Making a for loop to create 10 users.\n",
    "for muser in my_users:\n",
    "    r = RandomUser()\n",
    "    print(f\"{r.get_picture()}\")"
   ]
  }
 ],
 "metadata": {
  "kernelspec": {
   "display_name": "Python",
   "language": "python",
   "name": "conda-env-python-py"
  },
  "language_info": {
   "codemirror_mode": {
    "name": "ipython",
    "version": 3
   },
   "file_extension": ".py",
   "mimetype": "text/x-python",
   "name": "python",
   "nbconvert_exporter": "python",
   "pygments_lexer": "ipython3",
   "version": "3.7.12"
  }
 },
 "nbformat": 4,
 "nbformat_minor": 5
}
